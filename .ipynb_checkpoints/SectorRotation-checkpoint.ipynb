{
 "cells": [
  {
   "cell_type": "code",
   "execution_count": 46,
   "id": "138149a7-0cd4-454b-86d0-9223b76f64ae",
   "metadata": {},
   "outputs": [],
   "source": [
    "import pandas as pd\n",
    "import openpyxl\n",
    "import yfinance as yf\n",
    "import numpy as np\n",
    "def nospacelowacase(val):\n",
    "    return val.strip().replace(' ','').lower()\n",
    "api_key=\"M2SXB479P79W3RG6\"\n",
    "etfs = {\n",
    "    \"Energy\": \"XLE\",\n",
    "    \"Materials\": \"XLB\",\n",
    "    \"Industrials\": \"XLI\",\n",
    "    \"Utilities\": \"XLU\",  \n",
    "    \"Healthcare\": \"XLV\",\n",
    "    \"Financials\": \"XLF\",\n",
    "    \"Consumer Discretionary\": \"XLY\",\n",
    "    \"Consumer Staples\": \"XLP\",\n",
    "    \"Information Technology\": \"XLK\",\n",
    "    \"Communication Services\": \"XLC\",\n",
    "    \"Real Estate\": \"XLRE\"\n",
    "}\n",
    "# Hardcoded cuz none of them have every changed since inception #\n",
    "expense_ratios = {\n",
    "    \"XLE\": 0.0010, \n",
    "    \"XLF\": 0.0010,\n",
    "    \"XLV\": 0.0010,\n",
    "    \"XLI\": 0.0010,\n",
    "    \"XLY\": 0.0010,\n",
    "    \"XLP\": 0.0010,\n",
    "    \"XLK\": 0.0010,\n",
    "    \"XLC\": 0.0013,  \n",
    "    \"XLB\": 0.0010,\n",
    "    \"XLRE\": 0.0010,\n",
    "    \"XLU\": 0.0010,\n",
    "}"
   ]
  },
  {
   "cell_type": "code",
   "execution_count": 47,
   "id": "5fbd33d5-52db-4ee0-abcf-f2c1df0458f2",
   "metadata": {},
   "outputs": [],
   "source": [
    "def pull_ez_data(tick):\n",
    "    ticka = yf.Ticker(tick)\n",
    "    info = ticka.info\n",
    "    one_year_data = ticka.history(period=\"1y\")\n",
    "    one_year_return = (one_year_data[\"Close\"].iloc[-1] / one_year_data[\"Close\"].iloc[0] - 1) * 100  # Percentage return\n",
    "    three_year_data = ticka.history(period=\"3y\")\n",
    "    three_year_return = (three_year_data[\"Close\"].iloc[-1] / three_year_data[\"Close\"].iloc[0] - 1) * 100  # Percentage return\n",
    "    annualized_return = ((1 + (three_year_return / 100)) ** (1/3) - 1) * 100  # Annualized return\n",
    "    dividend_data = ticka.dividends\n",
    "    total_dividends = dividend_data.sum()  # Sum of dividends in the past year\n",
    "    avg_price = one_year_data[\"Close\"].mean()  # Average closing price for the past year\n",
    "    dividend_yield = (total_dividends / avg_price) * 100  # Percentage yield\n",
    "    return {\n",
    "        \"1-Year Total Return (%)\": one_year_return,\n",
    "        \"3-Year Annualized Return (%)\": annualized_return,\n",
    "        \"Dividend Yield (%)\": dividend_yield,\n",
    "    }\n"
   ]
  },
  {
   "cell_type": "code",
   "execution_count": 49,
   "id": "7da7bdeb-8e13-4b6e-b79e-7dab1a3faa80",
   "metadata": {},
   "outputs": [],
   "source": [
    "def sixgod(tick):\n",
    "    ticka = yf.Ticker(tick)\n",
    "    data = ticka.history(period=\"6mo\")\n",
    "    \n",
    "    most_recent_close = data[\"Close\"].iloc[-1]\n",
    "    \n",
    "    six_months_ago_close = data[\"Close\"].iloc[0]\n",
    "    \n",
    "    price_momentum = ((most_recent_close / six_months_ago_close) - 1) * 100\n",
    "    \n",
    "    return price_momentum"
   ]
  },
  {
   "cell_type": "code",
   "execution_count": 50,
   "id": "12308c14-6c9f-4ae9-807c-aefd6a1f7bbd",
   "metadata": {},
   "outputs": [],
   "source": [
    "def expense_ratio(ticker):\n",
    "    return expense_ratios.get(ticker)"
   ]
  },
  {
   "cell_type": "code",
   "execution_count": 51,
   "id": "98cda1e5-4284-4ee0-a6d8-7ee539f458a1",
   "metadata": {},
   "outputs": [],
   "source": [
    "def get_beta(ticker, benchmark=\"^GSPC\", years=3):\n",
    "    try:\n",
    "        data = yf.download([ticker, benchmark], period=f\"{years}y\")[\"Close\"] \n",
    "        returns = data.pct_change().dropna()\n",
    "        \n",
    "        covariance = np.cov(returns[ticker], returns[benchmark])[0][1]\n",
    "        benchmark_variance = np.var(returns[benchmark])\n",
    "        beta = covariance / benchmark_variance\n",
    "        \n",
    "        return round(beta, 2)\n",
    "    except Exception as e:\n",
    "        print(f\"Error calculating Beta: {e}\")\n",
    "        return None"
   ]
  },
  {
   "cell_type": "code",
   "execution_count": 53,
   "id": "df21a0cb-ee8a-4709-9565-3330b95c4c24",
   "metadata": {},
   "outputs": [],
   "source": [
    "def tree_yeer_dev(tick):\n",
    "    ticka = yf.Ticker(tick)\n",
    "    data = ticka.history(period=\"3y\")\n",
    "    data['Daily Return'] = data['Close'].pct_change()\n",
    "    std_deviation = np.std(data['Daily Return'].dropna())    \n",
    "    return std_deviation"
   ]
  },
  {
   "cell_type": "code",
   "execution_count": 54,
   "id": "6063437c-48a1-48ce-9751-f413ce9de7e7",
   "metadata": {},
   "outputs": [],
   "source": [
    "def max_drawdown(tick):\n",
    "    ticka = yf.Ticker(tick)\n",
    "    hist = ticka.history(period=\"3y\")[\"Close\"]\n",
    "    \n",
    "    cum_max = hist.cummax()  \n",
    "    drawdown = (hist - cum_max) / cum_max  \n",
    "    max_dd = drawdown.min() * 100  # Convert to percentage\n",
    "    \n",
    "    return max_dd"
   ]
  },
  {
   "cell_type": "code",
   "execution_count": null,
   "id": "3a3fa3c8-ec80-49af-b444-f88e523f27b0",
   "metadata": {},
   "outputs": [],
   "source": [
    "max_drawdown"
   ]
  }
 ],
 "metadata": {
  "kernelspec": {
   "display_name": "Python 3 (ipykernel)",
   "language": "python",
   "name": "python3"
  },
  "language_info": {
   "codemirror_mode": {
    "name": "ipython",
    "version": 3
   },
   "file_extension": ".py",
   "mimetype": "text/x-python",
   "name": "python",
   "nbconvert_exporter": "python",
   "pygments_lexer": "ipython3",
   "version": "3.13.2"
  }
 },
 "nbformat": 4,
 "nbformat_minor": 5
}
